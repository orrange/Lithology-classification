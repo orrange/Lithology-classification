{
 "cells": [
  {
   "cell_type": "code",
   "execution_count": 1,
   "metadata": {
    "collapsed": true
   },
   "outputs": [],
   "source": [
    "\n",
    "import numpy as np\n",
    "import matplotlib.pyplot as plt\n",
    "import pandas as pd\n",
    "np.set_printoptions(threshold=np.inf)\n",
    "from sklearn.metrics import accuracy_score\n",
    "from sklearn.model_selection import KFold\n",
    "from sklearn.preprocessing import StandardScaler\n",
    "from sklearn.model_selection import train_test_split,cross_val_score\n",
    "\n",
    "\n",
    "import scipy as sp\n",
    "np.set_printoptions(threshold=np.inf)\n",
    "\n",
    "from sklearn.ensemble import AdaBoostClassifier\n",
    "from sklearn.tree import DecisionTreeClassifier\n",
    "from sklearn.preprocessing import StandardScaler\n",
    "from sklearn.metrics import precision_recall_curve\n",
    "from sklearn.metrics import classification_report\n",
    "from sklearn.metrics import accuracy_score\n"
   ]
  },
  {
   "cell_type": "code",
   "execution_count": 2,
   "metadata": {
    "collapsed": true
   },
   "outputs": [],
   "source": [
    "# # 读取数据\n",
    "# dataset= pd.read_excel('data6041.xlsx', sheet_name='Sheet1')\n",
    "# X = dataset.iloc[:, 1:4]\n",
    "# y = dataset.iloc[:,4]\n",
    "\n",
    "\n"
   ]
  },
  {
   "cell_type": "code",
   "execution_count": 3,
   "metadata": {
    "collapsed": true
   },
   "outputs": [],
   "source": [
    "# #分测试集和训练集\n",
    "# from sklearn.model_selection import KFold\n",
    "# from sklearn.model_selection import train_test_split\n",
    "# X_train, X_test, y_train, y_test = train_test_split(X, y, test_size = 0.2, random_state = 0)\n",
    "\n",
    "# # 特征归一化\n",
    "# from sklearn.preprocessing import StandardScaler\n",
    "# sc = StandardScaler()\n",
    "# X_train = sc.fit_transform(X_train)\n",
    "# X_test = sc.transform(X_test)\n",
    "\n"
   ]
  },
  {
   "cell_type": "code",
   "execution_count": 4,
   "metadata": {
    "collapsed": true
   },
   "outputs": [],
   "source": [
    "# df=dataset.iloc[:,1:5]\n",
    "# df_train,df_test=train_test_split(df,test_size = 0.2, random_state = 0)\n",
    "# df_train.to_csv(\"d://xunlian.csv\")\n",
    "# df_test.to_csv(\"d://ceshi.csv\")"
   ]
  },
  {
   "cell_type": "code",
   "execution_count": 2,
   "metadata": {
    "collapsed": false
   },
   "outputs": [
    {
     "name": "stdout",
     "output_type": "stream",
     "text": [
      "开始读入训练数据...\n"
     ]
    }
   ],
   "source": [
    "\n",
    "print(\"开始读入训练数据...\")\n",
    "df = pd.read_excel('../data/train6041.xlsx', sheet_name='Sheet1')\n",
    "\n",
    "\n",
    "esc = StandardScaler().fit(df['Fluid resistivity logging'].values.reshape(-1, 1))\n",
    "fsc = StandardScaler().fit(df['natural gamma-ray logging'].values.reshape(-1, 1))\n",
    "gsc = StandardScaler().fit(df['spontaneous potential logging'].values.reshape(-1, 1))\n",
    "\n",
    "\n",
    "\n",
    "\n",
    "e = esc.transform(df['Fluid resistivity logging'].values.reshape(-1, 1))\n",
    "f = fsc.transform(df['natural gamma-ray logging'].values.reshape(-1, 1))\n",
    "g = gsc.transform(df['spontaneous potential logging'].values.reshape(-1, 1))\n",
    "\n",
    "\n",
    "\n",
    "X_train = np.concatenate(( e,f,g), axis=1)\n",
    "y_train = np.array(df['rock'])\n",
    "\n"
   ]
  },
  {
   "cell_type": "code",
   "execution_count": 6,
   "metadata": {
    "collapsed": true
   },
   "outputs": [],
   "source": [
    "#生成分类器并训练\n",
    "from sklearn.ensemble import AdaBoostClassifier\n",
    "from sklearn.tree import DecisionTreeClassifier\n",
    "\n",
    "classifier=AdaBoostClassifier(DecisionTreeClassifier(min_samples_split=10, min_samples_leaf=8),random_state=0)\n"
   ]
  },
  {
   "cell_type": "code",
   "execution_count": 7,
   "metadata": {
    "collapsed": true
   },
   "outputs": [],
   "source": [
    "# #应用k次交叉验证评价模型性能\n",
    "# from sklearn.model_selection import cross_val_score\n",
    "# accuracies = cross_val_score(estimator = classifier, X = X_train, y = y_train, cv = 10)\n",
    "# accuracies.mean()\n",
    "# #accuracies.std() \n",
    "# #这意味着我们的准确度在（90-100）%之间"
   ]
  },
  {
   "cell_type": "code",
   "execution_count": 8,
   "metadata": {
    "collapsed": true
   },
   "outputs": [],
   "source": [
    "#应用网格搜索寻找最佳模型和最佳参数\n",
    "from sklearn.model_selection import GridSearchCV #对SVC进行检查，网格搜索优化参数。\n",
    "parameters = [{'n_estimators' : [10,30,50,70,90],'learning_rate' : [0.001,0.01,0.1,1]}] \n",
    "grid_search = GridSearchCV(estimator = classifier,\n",
    "                           param_grid = parameters,\n",
    "                           scoring = 'accuracy',\n",
    "                           cv = 10,\n",
    "                           n_jobs = -1)"
   ]
  },
  {
   "cell_type": "code",
   "execution_count": 9,
   "metadata": {
    "collapsed": false,
    "scrolled": true
   },
   "outputs": [
    {
     "name": "stdout",
     "output_type": "stream",
     "text": [
      "11.902504185902242\n"
     ]
    }
   ],
   "source": [
    "#将网格搜索对象拟合到训练集\n",
    "# grid_search = grid_search.fit(X_train, y_train)\n",
    "\n",
    "import time\n",
    "start = time.clock()\n",
    "grid_search = grid_search.fit(X_train, y_train)\n",
    "end = time.clock()\n",
    "print (end-start)"
   ]
  },
  {
   "cell_type": "code",
   "execution_count": 10,
   "metadata": {
    "collapsed": true
   },
   "outputs": [],
   "source": [
    "#最优精度\n",
    "best_accuracy = grid_search.best_score_\n",
    "#最优参数\n",
    "best_parameters = grid_search.best_params_\n",
    "\n",
    "\n",
    "\n",
    "\n"
   ]
  },
  {
   "cell_type": "code",
   "execution_count": 11,
   "metadata": {
    "collapsed": false
   },
   "outputs": [
    {
     "name": "stdout",
     "output_type": "stream",
     "text": [
      "0.80355\n",
      "{'learning_rate': 0.01, 'n_estimators': 70}\n"
     ]
    }
   ],
   "source": [
    "print('%.5f' %best_accuracy)\n",
    "print(best_parameters)\n"
   ]
  },
  {
   "cell_type": "code",
   "execution_count": 12,
   "metadata": {
    "collapsed": false
   },
   "outputs": [],
   "source": [
    "# parameters = [{'n_estimators' : [60,65,70,75,80],'learning_rate' : np.linspace (0.005,0.025,6)}]\n",
    "parameters = [{'n_estimators' : [60,65,70,75,80],'learning_rate' : [0.005,0.009,0.013,0.017,0.021,0.025]}]\n",
    "grid_search = GridSearchCV(estimator = classifier,\n",
    "                           param_grid = parameters,\n",
    "                           scoring = 'accuracy',\n",
    "                           cv = 10,\n",
    "                           n_jobs = -1)"
   ]
  },
  {
   "cell_type": "code",
   "execution_count": 13,
   "metadata": {
    "collapsed": false
   },
   "outputs": [
    {
     "name": "stdout",
     "output_type": "stream",
     "text": [
      "21.059127490622522\n"
     ]
    }
   ],
   "source": [
    "# grid_search = grid_search.fit(X_train, y_train)\n",
    "import time\n",
    "start = time.clock()\n",
    "grid_search = grid_search.fit(X_train, y_train)\n",
    "end = time.clock()\n",
    "print (end-start)"
   ]
  },
  {
   "cell_type": "code",
   "execution_count": 14,
   "metadata": {
    "collapsed": true
   },
   "outputs": [],
   "source": [
    "#最优精度\n",
    "best_accuracy = grid_search.best_score_\n",
    "#最优参数\n",
    "best_parameters = grid_search.best_params_"
   ]
  },
  {
   "cell_type": "code",
   "execution_count": 15,
   "metadata": {
    "collapsed": false
   },
   "outputs": [
    {
     "name": "stdout",
     "output_type": "stream",
     "text": [
      "0.80642\n",
      "{'learning_rate': 0.009, 'n_estimators': 75}\n"
     ]
    }
   ],
   "source": [
    "print('%.5f' %best_accuracy)\n",
    "print(best_parameters)"
   ]
  },
  {
   "cell_type": "code",
   "execution_count": 16,
   "metadata": {
    "collapsed": true
   },
   "outputs": [],
   "source": [
    "parameters = [{'n_estimators' :[60,65,70,75,80],'learning_rate' : [0.009]}]\n",
    "grid_search = GridSearchCV(estimator = classifier,\n",
    "                           param_grid = parameters,\n",
    "                           scoring = 'accuracy',\n",
    "                           cv = 10,\n",
    "                           n_jobs = -1)"
   ]
  },
  {
   "cell_type": "code",
   "execution_count": 17,
   "metadata": {
    "collapsed": false,
    "scrolled": true
   },
   "outputs": [
    {
     "name": "stdout",
     "output_type": "stream",
     "text": [
      "4.942282872625135\n"
     ]
    }
   ],
   "source": [
    "import time\n",
    "start = time.clock()\n",
    "grid_search = grid_search.fit(X_train, y_train)\n",
    "end = time.clock()\n",
    "print (end-start)"
   ]
  },
  {
   "cell_type": "code",
   "execution_count": 19,
   "metadata": {
    "collapsed": false,
    "scrolled": true
   },
   "outputs": [
    {
     "name": "stdout",
     "output_type": "stream",
     "text": [
      "0.80379\n",
      "0.80523\n",
      "0.80476\n",
      "0.80666\n",
      "0.80528\n"
     ]
    }
   ],
   "source": [
    "k1 = [60,65,70,75,80]\n",
    "for x1 in k1:\n",
    "    classifier= AdaBoostClassifier(DecisionTreeClassifier(min_samples_split=10, min_samples_leaf=8),learning_rate=0.009, n_estimators= x1,random_state=0)\n",
    "    classifier.fit(X_train, y_train,)\n",
    "    accuracies = cross_val_score(estimator = classifier, X = X_train, y = y_train, cv = 10 )\n",
    "   \n",
    "\n",
    "    print('%.5f' % accuracies.mean())"
   ]
  },
  {
   "cell_type": "code",
   "execution_count": 20,
   "metadata": {
    "collapsed": false
   },
   "outputs": [],
   "source": [
    "x = [60,65,70,75,80]\n",
    "y=[0.80379,0.80523,0.80476,0.80642,0.80528]\n",
    "plt.figure(figsize=(8,4),dpi=400)\n",
    "plt.plot(x,y,color='blue',linewidth=2)\n",
    "plt.xlabel('Value of n_estimators for model')\n",
    "plt.ylabel('Cross-Validated accuracy ')\n",
    "# plt.title('SVM')\n",
    "plt.ylim(0.803,0.8075)\n",
    "plt.show\n",
    "plt.savefig('../Data/AB_accuracy_1.png', format='png')\n"
   ]
  },
  {
   "cell_type": "code",
   "execution_count": 21,
   "metadata": {
    "collapsed": true
   },
   "outputs": [],
   "source": [
    "parameters = [{'n_estimators' : [75],'learning_rate' : [0.005,0.009,0.013,0.017,0.021,0.025]}]\n",
    "grid_search = GridSearchCV(estimator = classifier,\n",
    "                           param_grid = parameters,\n",
    "                           scoring = 'accuracy',\n",
    "                           cv = 10,\n",
    "                           n_jobs = -1)"
   ]
  },
  {
   "cell_type": "code",
   "execution_count": 22,
   "metadata": {
    "collapsed": false
   },
   "outputs": [
    {
     "name": "stdout",
     "output_type": "stream",
     "text": [
      "5.977955626157666\n"
     ]
    }
   ],
   "source": [
    "import time\n",
    "start = time.clock()\n",
    "grid_search = grid_search.fit(X_train, y_train)\n",
    "end = time.clock()\n",
    "print (end-start)"
   ]
  },
  {
   "cell_type": "code",
   "execution_count": 23,
   "metadata": {
    "collapsed": false
   },
   "outputs": [
    {
     "name": "stdout",
     "output_type": "stream",
     "text": [
      "0.80127\n",
      "0.80666\n",
      "0.79993\n",
      "0.80371\n",
      "0.79779\n",
      "0.79212\n"
     ]
    }
   ],
   "source": [
    "k2 = [0.005,0.009,0.013,0.017,0.021,0.025]\n",
    "for x2 in k2:\n",
    "    classifier= AdaBoostClassifier(DecisionTreeClassifier(min_samples_split=10, min_samples_leaf=8),learning_rate=x2, n_estimators= 75,random_state=0)\n",
    "    classifier.fit(X_train, y_train)\n",
    "    accuracies = cross_val_score(estimator = classifier, X = X_train, y = y_train , cv = 10)\n",
    "    print('%.5f' % accuracies.mean())"
   ]
  },
  {
   "cell_type": "code",
   "execution_count": 24,
   "metadata": {
    "collapsed": false,
    "scrolled": true
   },
   "outputs": [],
   "source": [
    "x = [0.005,0.009,0.013,0.017,0.021,0.025]\n",
    "y=[0.80127,0.80642,0.79993,0.80371,0.79779,0.79212]\n",
    "plt.figure(figsize=(8,4),dpi=400)\n",
    "plt.plot(x,y,color='blue',linewidth=2)\n",
    "plt.xlabel('Value of learning_rate for model')\n",
    "plt.ylabel('Cross-Validated accuracy ')\n",
    "# plt.title('SVM')\n",
    "plt.ylim(0.79,0.81)\n",
    "plt.show\n",
    "plt.savefig('../Data/AB_accuracy_2.png', format='png')"
   ]
  },
  {
   "cell_type": "code",
   "execution_count": 25,
   "metadata": {
    "collapsed": false
   },
   "outputs": [],
   "source": [
    "#应用网格搜索寻找最佳模型和最佳参数\n",
    "from sklearn.model_selection import GridSearchCV #对SVC进行检查，网格搜索优化参数。\n",
    "# parameters = [{'n_estimators' : [71,73,75,77,79],'learning_rate'  : np.linspace (0.008,0.01,11)}]\n",
    "parameters = [{'n_estimators' : [70,72,74,76,78],'learning_rate'  :[0.008,0.0082,0.0084,0.0086,0.0088,0.009,0.0092,0.0094,0.0096,0.0098,0.01]}]\n",
    "grid_search = GridSearchCV(estimator = classifier,\n",
    "                           param_grid = parameters,\n",
    "                           scoring = 'accuracy',\n",
    "                           cv = 10,\n",
    "                           n_jobs = -1)"
   ]
  },
  {
   "cell_type": "code",
   "execution_count": 26,
   "metadata": {
    "collapsed": false
   },
   "outputs": [
    {
     "name": "stdout",
     "output_type": "stream",
     "text": [
      "38.44816081163029\n"
     ]
    }
   ],
   "source": [
    "#将网格搜索对象拟合到训练集\n",
    "# grid_search = grid_search.fit(X_train, y_train)\n",
    "\n",
    "import time\n",
    "start = time.clock()\n",
    "grid_search = grid_search.fit(X_train, y_train)\n",
    "end = time.clock()\n",
    "print (end-start)"
   ]
  },
  {
   "cell_type": "code",
   "execution_count": 27,
   "metadata": {
    "collapsed": true
   },
   "outputs": [],
   "source": [
    "#最优精度\n",
    "best_accuracy = grid_search.best_score_\n",
    "#最优参数\n",
    "best_parameters = grid_search.best_params_\n",
    "\n",
    "\n"
   ]
  },
  {
   "cell_type": "code",
   "execution_count": 28,
   "metadata": {
    "collapsed": false
   },
   "outputs": [
    {
     "name": "stdout",
     "output_type": "stream",
     "text": [
      "0.80690\n",
      "{'learning_rate': 0.008, 'n_estimators': 74}\n"
     ]
    }
   ],
   "source": [
    "print('%.5f' %best_accuracy)\n",
    "print(best_parameters)\n"
   ]
  },
  {
   "cell_type": "code",
   "execution_count": 29,
   "metadata": {
    "collapsed": true
   },
   "outputs": [],
   "source": [
    "parameters = [{'n_estimators' :[70,72,74,76,78],'learning_rate' : [0.008]}]\n",
    "grid_search = GridSearchCV(estimator = classifier,\n",
    "                           param_grid = parameters,\n",
    "                           scoring = 'accuracy',\n",
    "                           cv = 10,\n",
    "                           n_jobs = -1)"
   ]
  },
  {
   "cell_type": "code",
   "execution_count": 30,
   "metadata": {
    "collapsed": false
   },
   "outputs": [
    {
     "name": "stdout",
     "output_type": "stream",
     "text": [
      "4.9472001851975165\n"
     ]
    }
   ],
   "source": [
    "import time\n",
    "start = time.clock()\n",
    "grid_search = grid_search.fit(X_train, y_train)\n",
    "end = time.clock()\n",
    "print (end-start)"
   ]
  },
  {
   "cell_type": "code",
   "execution_count": 31,
   "metadata": {
    "collapsed": false
   },
   "outputs": [
    {
     "name": "stdout",
     "output_type": "stream",
     "text": [
      "0.80573\n",
      "0.80576\n",
      "0.80718\n",
      "0.80575\n",
      "0.80623\n"
     ]
    }
   ],
   "source": [
    "k3 = [70,72,74,76,78]\n",
    "for x3 in k3:\n",
    "    classifier= AdaBoostClassifier(DecisionTreeClassifier(min_samples_split=10, min_samples_leaf=8),learning_rate=0.008, n_estimators= x3,random_state=0)\n",
    "    classifier.fit(X_train, y_train,)\n",
    "    accuracies = cross_val_score(estimator = classifier, X = X_train, y = y_train , cv = 10)\n",
    "   \n",
    "\n",
    "    print('%.5f' % accuracies.mean())"
   ]
  },
  {
   "cell_type": "code",
   "execution_count": 32,
   "metadata": {
    "collapsed": false
   },
   "outputs": [
    {
     "data": {
      "text/plain": [
       "<function matplotlib.pyplot.show>"
      ]
     },
     "execution_count": 32,
     "metadata": {},
     "output_type": "execute_result"
    }
   ],
   "source": [
    "x = [70,72,74,76,78]\n",
    "y=[0.80573,0.80576,0.80690,0.80575,0.80623]\n",
    "plt.figure(figsize=(8,4),dpi=400)\n",
    "plt.plot(x,y,color='blue',linewidth=2)\n",
    "plt.xlabel('Value of n_estimators for model')\n",
    "plt.ylabel('Cross-Validated accuracy ')\n",
    "# plt.title('SVM')\n",
    "plt.ylim(0.804,0.807)\n",
    "\n",
    "plt.savefig('../Data/AB_accuracy_3.png', format='png')\n",
    "plt.show"
   ]
  },
  {
   "cell_type": "code",
   "execution_count": 33,
   "metadata": {
    "collapsed": true
   },
   "outputs": [],
   "source": [
    "parameters = [{'n_estimators' : [74],'learning_rate' : [0.008,0.0082,0.0084,0.0086,0.0088,0.009,0.0092,0.0094,0.0096,0.0098,0.01]}]\n",
    "grid_search = GridSearchCV(estimator = classifier,\n",
    "                           param_grid = parameters,\n",
    "                           scoring = 'accuracy',\n",
    "                           cv = 10,\n",
    "                           n_jobs = -1)"
   ]
  },
  {
   "cell_type": "code",
   "execution_count": 34,
   "metadata": {
    "collapsed": false
   },
   "outputs": [
    {
     "name": "stdout",
     "output_type": "stream",
     "text": [
      "9.074598151959435\n"
     ]
    }
   ],
   "source": [
    "#将网格搜索对象拟合到训练集\n",
    "# grid_search = grid_search.fit(X_train, y_train)\n",
    "\n",
    "import time\n",
    "start = time.clock()\n",
    "grid_search = grid_search.fit(X_train, y_train)\n",
    "end = time.clock()\n",
    "print (end-start)"
   ]
  },
  {
   "cell_type": "code",
   "execution_count": 35,
   "metadata": {
    "collapsed": false
   },
   "outputs": [
    {
     "name": "stdout",
     "output_type": "stream",
     "text": [
      "0.80718\n",
      "0.80378\n",
      "0.80623\n",
      "0.80235\n",
      "0.80330\n",
      "0.80716\n",
      "0.80328\n",
      "0.80193\n",
      "0.80615\n",
      "0.80519\n",
      "0.80374\n"
     ]
    }
   ],
   "source": [
    "k4 = [0.008,0.0082,0.0084,0.0086,0.0088,0.009,0.0092,0.0094,0.0096,0.0098,0.01]\n",
    "for x4 in k4:\n",
    "    classifier= AdaBoostClassifier(DecisionTreeClassifier(min_samples_split=10, min_samples_leaf=8),learning_rate=x4, n_estimators= 74,random_state=0)\n",
    "    classifier.fit(X_train, y_train)\n",
    "    accuracies = cross_val_score(estimator = classifier, X = X_train, y = y_train , cv = 10)\n",
    "    print('%.5f' % accuracies.mean())"
   ]
  },
  {
   "cell_type": "code",
   "execution_count": 36,
   "metadata": {
    "collapsed": false
   },
   "outputs": [],
   "source": [
    "x = [0.008,0.0082,0.0084,0.0086,0.0088,0.009,0.0092,0.0094,0.0096,0.0098,0.01]\n",
    "y=[0.80718,0.80378,0.80623,0.80235,0.80330,0.80690,0.80328,0.80193,0.80615,0.80519,0.80374]\n",
    "plt.figure(figsize=(8,4),dpi=400)\n",
    "plt.plot(x,y,color='blue',linewidth=2)\n",
    "plt.xlabel('Value of learning_rate for model')\n",
    "plt.ylabel('Cross-Validated accuracy ')\n",
    "# plt.title('SVM')\n",
    "plt.ylim(0.801,0.81)\n",
    "plt.show\n",
    "plt.savefig('../Data/AB_accuracy_4.png', format='png')"
   ]
  },
  {
   "cell_type": "code",
   "execution_count": 3,
   "metadata": {
    "collapsed": false
   },
   "outputs": [
    {
     "data": {
      "text/plain": [
       "AdaBoostClassifier(base_estimator=DecisionTreeClassifier(min_samples_leaf=8,\n",
       "                                                         min_samples_split=10),\n",
       "                   learning_rate=0.008, n_estimators=74)"
      ]
     },
     "execution_count": 3,
     "metadata": {},
     "output_type": "execute_result"
    }
   ],
   "source": [
    "from sklearn.model_selection import cross_val_score\n",
    "classifier= AdaBoostClassifier(DecisionTreeClassifier(min_samples_split=10, min_samples_leaf=8),learning_rate=0.008, n_estimators= 74)\n",
    "classifier.fit(X_train, y_train)\n",
    "# accuracies = cross_val_score(estimator = classifier, X = X_train, y = y_train,cv=10 )\n",
    "# print('训练集精度为：')\n",
    "\n",
    "# print('%.5f' %accuracies.mean())\n",
    "\n",
    "\n"
   ]
  },
  {
   "cell_type": "code",
   "execution_count": 4,
   "metadata": {
    "collapsed": false
   },
   "outputs": [
    {
     "name": "stdout",
     "output_type": "stream",
     "text": [
      "正在保存训练数据结果至文件中...\n",
      "处理完毕，已保存至文件！\n",
      "Please press <enter>\n",
      "训练集精度为：\n"
     ]
    },
    {
     "data": {
      "text/plain": [
       "0.9228557738380451"
      ]
     },
     "execution_count": 4,
     "metadata": {},
     "output_type": "execute_result"
    }
   ],
   "source": [
    "\n",
    "print(\"正在保存训练数据结果至文件中...\")\n",
    "y_train_pred= classifier.predict(X_train)\n",
    "y_train_pred = pd.DataFrame({'AB_train_pred': y_train_pred})\n",
    "Df = pd.concat([df, y_train_pred ], axis=1)\n",
    "writer = pd.ExcelWriter('../data/train6041.xlsx', engine='xlsxwriter')\n",
    "\n",
    "Df.to_excel(writer, sheet_name='Sheet1', index=False)\n",
    "writer.save()\n",
    "print(\"处理完毕，已保存至文件！\")\n",
    "input(\"Please press <enter>\")\n",
    "\n",
    "print('训练集精度为：')\n",
    "\n",
    "accuracy_score(y_train,y_train_pred)\n"
   ]
  },
  {
   "cell_type": "code",
   "execution_count": 5,
   "metadata": {
    "collapsed": false
   },
   "outputs": [
    {
     "name": "stdout",
     "output_type": "stream",
     "text": [
      "              precision    recall  f1-score   support\n",
      "\n",
      "           1    1.00000   0.95522   0.97710        67\n",
      "           2    0.94545   0.74286   0.83200       140\n",
      "           3    0.94005   0.99402   0.96628       836\n",
      "           4    0.93126   0.92105   0.92613       456\n",
      "           5    0.94118   0.66667   0.78049        24\n",
      "           6    0.87500   0.90960   0.89197       177\n",
      "           7    0.89109   0.83333   0.86124       108\n",
      "           8    0.84348   0.81513   0.82906       119\n",
      "           9    0.93651   0.95161   0.94400        62\n",
      "          10    0.85714   0.85714   0.85714        98\n",
      "\n",
      "    accuracy                        0.92286      2087\n",
      "   macro avg    0.91612   0.86466   0.88654      2087\n",
      "weighted avg    0.92287   0.92286   0.92136      2087\n",
      "\n"
     ]
    }
   ],
   "source": [
    "from sklearn.metrics import classification_report\n",
    "print(classification_report(y_train,y_train_pred,digits=5))"
   ]
  },
  {
   "cell_type": "code",
   "execution_count": 39,
   "metadata": {
    "collapsed": false
   },
   "outputs": [
    {
     "name": "stdout",
     "output_type": "stream",
     "text": [
      "开始读入测试数据...\n"
     ]
    }
   ],
   "source": [
    "print(\"开始读入测试数据...\")\n",
    "testDf = pd.read_excel('../data/test6041.xlsx', sheet_name='Sheet1')\n",
    "\n",
    "\n",
    "# ttc = csc.transform(testDf[' temperature logging'].values.reshape(-1, 1))\n",
    "# ttd = dsc.transform(testDf['Vertical Component Logging '].values.reshape(-1, 1))\n",
    "tte = esc.transform(testDf['Fluid resistivity logging'].values.reshape(-1, 1))\n",
    "ttf = fsc.transform(testDf['natural gamma-ray logging'].values.reshape(-1, 1))\n",
    "ttg = gsc.transform(testDf['spontaneous potential logging'].values.reshape(-1, 1))\n",
    "\n",
    "\n",
    "X_test = np.concatenate((tte,ttf,ttg), axis=1)\n",
    "\n",
    "y_test = np.array(testDf['rock'])"
   ]
  },
  {
   "cell_type": "code",
   "execution_count": 40,
   "metadata": {
    "collapsed": false
   },
   "outputs": [
    {
     "data": {
      "text/plain": [
       "AdaBoostClassifier(algorithm='SAMME.R',\n",
       "          base_estimator=DecisionTreeClassifier(class_weight=None, criterion='gini', max_depth=None,\n",
       "            max_features=None, max_leaf_nodes=None,\n",
       "            min_impurity_split=1e-07, min_samples_leaf=8,\n",
       "            min_samples_split=10, min_weight_fraction_leaf=0.0,\n",
       "            presort=False, random_state=None, splitter='best'),\n",
       "          learning_rate=0.008, n_estimators=74, random_state=None)"
      ]
     },
     "execution_count": 40,
     "metadata": {},
     "output_type": "execute_result"
    }
   ],
   "source": [
    "classifier.fit(X_test, y_test)\n",
    "# accuracies = cross_val_score(estimator = classifier, X = X_test, y = y_test)\n",
    "# print('测试集精度为：')\n",
    "\n",
    "# print('%.5f' %accuracies.mean())"
   ]
  },
  {
   "cell_type": "code",
   "execution_count": 41,
   "metadata": {
    "collapsed": false
   },
   "outputs": [
    {
     "name": "stdout",
     "output_type": "stream",
     "text": [
      "正在保存测试结果至文件中...\n",
      "处理完毕，已保存至文件！\n",
      "Please press <enter>\n",
      "测试集精度为：\n"
     ]
    },
    {
     "data": {
      "text/plain": [
       "0.90038314176245215"
      ]
     },
     "execution_count": 41,
     "metadata": {},
     "output_type": "execute_result"
    }
   ],
   "source": [
    "# y_test_pred = classifier.predict(X_test)\n",
    "y_test_pred= classifier.predict(X_test)\n",
    "print(\"正在保存测试结果至文件中...\")\n",
    "y_test_pred = pd.DataFrame({'AB_test_pred':y_test_pred })\n",
    "wDf = pd.concat([testDf, y_test_pred ], axis=1)\n",
    "writer = pd.ExcelWriter('../data/test6041.xlsx', engine='xlsxwriter')\n",
    "\n",
    "wDf.to_excel(writer, sheet_name='Sheet1', index=False)\n",
    "writer.save()\n",
    "print(\"处理完毕，已保存至文件！\")\n",
    "input(\"Please press <enter>\")\n",
    "print('测试集精度为：')\n",
    "\n",
    "accuracy_score(y_test,y_test_pred)"
   ]
  },
  {
   "cell_type": "code",
   "execution_count": 42,
   "metadata": {
    "collapsed": false
   },
   "outputs": [
    {
     "name": "stdout",
     "output_type": "stream",
     "text": [
      "             precision    recall  f1-score   support\n",
      "\n",
      "          1    1.00000   0.93750   0.96774        16\n",
      "          2    0.90909   0.60606   0.72727        33\n",
      "          3    0.90830   0.99522   0.94977       209\n",
      "          4    0.87288   0.90351   0.88793       114\n",
      "          5    1.00000   0.33333   0.50000         3\n",
      "          6    0.91892   0.85000   0.88312        40\n",
      "          7    0.86207   0.78125   0.81967        32\n",
      "          8    0.88462   0.76667   0.82143        30\n",
      "          9    0.94118   0.88889   0.91429        18\n",
      "         10    0.89286   0.92593   0.90909        27\n",
      "\n",
      "avg / total    0.90090   0.90038   0.89638       522\n",
      "\n"
     ]
    }
   ],
   "source": [
    "from sklearn.metrics import classification_report\n",
    "print(classification_report(y_test,y_test_pred,digits=5))\n",
    "\n"
   ]
  },
  {
   "cell_type": "code",
   "execution_count": 43,
   "metadata": {
    "collapsed": false,
    "scrolled": false
   },
   "outputs": [
    {
     "name": "stdout",
     "output_type": "stream",
     "text": [
      "[[ 0.938  0.062  0.     0.     0.     0.     0.     0.     0.     0.   ]\n",
      " [ 0.     0.606  0.394  0.     0.     0.     0.     0.     0.     0.   ]\n",
      " [ 0.     0.     0.995  0.     0.     0.     0.005  0.     0.     0.   ]\n",
      " [ 0.     0.     0.026  0.904  0.     0.009  0.018  0.026  0.009  0.009]\n",
      " [ 0.     0.333  0.333  0.     0.333  0.     0.     0.     0.     0.   ]\n",
      " [ 0.     0.     0.     0.125  0.     0.85   0.     0.     0.     0.025]\n",
      " [ 0.     0.     0.125  0.031  0.     0.031  0.781  0.     0.     0.031]\n",
      " [ 0.     0.     0.     0.2    0.     0.033  0.     0.767  0.     0.   ]\n",
      " [ 0.     0.     0.     0.111  0.     0.     0.     0.     0.889  0.   ]\n",
      " [ 0.     0.     0.     0.037  0.     0.     0.037  0.     0.     0.926]]\n"
     ]
    }
   ],
   "source": [
    "import matplotlib.pyplot as plt\n",
    "from sklearn.metrics import confusion_matrix\n",
    "labels = ['1', '2', '3','4','5','6','7','8','9','10']\n",
    "tick_marks = np.array(range(len(labels))) + 0.5\n",
    "def plot_confusion_matrix(cm, title='Confusion Matrix', cmap=plt.cm.binary):\n",
    "#     plt.imshow(cm, interpolation='nearest', cmap=cmap)\n",
    "    plt.imshow(cm, interpolation='nearest', cmap=plt.cm.Wistia)\n",
    "    plt.title(title)\n",
    "    plt.colorbar()\n",
    "    xlocations = np.array(range(len(labels)))\n",
    "    plt.xticks(xlocations, labels, rotation=90)\n",
    "    plt.yticks(xlocations, labels)\n",
    "    plt.ylabel('True label_AB')\n",
    "    plt.xlabel('Predicted label_AB')\n",
    "cm = confusion_matrix(y_test,y_test_pred)\n",
    "np.set_printoptions(precision=3)\n",
    "cm_normalized = cm.astype('float') / cm.sum(axis=1)[:, np.newaxis]\n",
    "print(cm_normalized)\n",
    "plt.figure(figsize=(6, 4), dpi=400)\n",
    "\n",
    "ind_array = np.arange(len(labels))\n",
    "x, y = np.meshgrid(ind_array, ind_array)\n",
    "\n",
    "for x_val, y_val in zip(x.flatten(), y.flatten()):\n",
    "    c = cm_normalized[y_val][x_val]\n",
    "    if c >= 0.0:\n",
    "        plt.text(x_val, y_val, \"%0.5f\" % (c,), color='red', fontsize=5, va='center', ha='center')\n",
    "# offset the tick\n",
    "plt.gca().set_xticks(tick_marks, minor=True)\n",
    "plt.gca().set_yticks(tick_marks, minor=True)\n",
    "plt.gca().xaxis.set_ticks_position('none')\n",
    "plt.gca().yaxis.set_ticks_position('none')\n",
    "plt.grid(True, which='minor', linestyle='-')\n",
    "plt.gcf().subplots_adjust(bottom=0.15)\n",
    "\n",
    "plot_confusion_matrix(cm_normalized, title='Normalized confusion matrix_AdaBoost')\n",
    "# show confusion matrix\n",
    "plt.savefig('../Data/confusion_matrix_AB.png', format='png')\n",
    "# plt.show()"
   ]
  },
  {
   "cell_type": "code",
   "execution_count": null,
   "metadata": {
    "collapsed": true
   },
   "outputs": [],
   "source": []
  },
  {
   "cell_type": "code",
   "execution_count": null,
   "metadata": {
    "collapsed": true
   },
   "outputs": [],
   "source": []
  }
 ],
 "metadata": {
  "kernelspec": {
   "display_name": "Python 3",
   "language": "python",
   "name": "python3"
  },
  "language_info": {
   "codemirror_mode": {
    "name": "ipython",
    "version": 3
   },
   "file_extension": ".py",
   "mimetype": "text/x-python",
   "name": "python",
   "nbconvert_exporter": "python",
   "pygments_lexer": "ipython3",
   "version": "3.6.0"
  }
 },
 "nbformat": 4,
 "nbformat_minor": 2
}
